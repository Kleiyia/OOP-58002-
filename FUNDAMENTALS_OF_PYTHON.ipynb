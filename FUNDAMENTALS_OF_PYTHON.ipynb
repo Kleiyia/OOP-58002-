{
  "nbformat": 4,
  "nbformat_minor": 0,
  "metadata": {
    "colab": {
      "name": "FUNDAMENTALS OF PYTHON",
      "provenance": [],
      "authorship_tag": "ABX9TyN50Xj+8Ap0kLgb4iKGW3F0",
      "include_colab_link": true
    },
    "kernelspec": {
      "name": "python3",
      "display_name": "Python 3"
    },
    "language_info": {
      "name": "python"
    }
  },
  "cells": [
    {
      "cell_type": "markdown",
      "metadata": {
        "id": "view-in-github",
        "colab_type": "text"
      },
      "source": [
        "<a href=\"https://colab.research.google.com/github/Kleiyia/OOP-58002-/blob/main/FUNDAMENTALS_OF_PYTHON.ipynb\" target=\"_parent\"><img src=\"https://colab.research.google.com/assets/colab-badge.svg\" alt=\"Open In Colab\"/></a>"
      ]
    },
    {
      "cell_type": "markdown",
      "source": [
        "PHYTHON VARIABLES"
      ],
      "metadata": {
        "id": "y1D9pJGbpArz"
      }
    },
    {
      "cell_type": "code",
      "source": [
        "x = float(1) \n",
        "a, b = 0, -1\n",
        "a, b, c = \"Mikey\", \"Emma\", \"Shinichiro\"\n",
        "\n",
        "print('This a sample')\n",
        "print(a)\n",
        "print(c)"
      ],
      "metadata": {
        "colab": {
          "base_uri": "https://localhost:8080/"
        },
        "id": "U1I3zCsTr4cM",
        "outputId": "e3fc3d4b-d6ba-41c1-c86e-5b27d517f012"
      },
      "execution_count": null,
      "outputs": [
        {
          "output_type": "stream",
          "name": "stdout",
          "text": [
            "This a sample\n",
            "Mikey\n",
            "Shinichiro\n"
          ]
        }
      ]
    },
    {
      "cell_type": "markdown",
      "source": [
        "CASTING"
      ],
      "metadata": {
        "id": "hUjQaJWnsGjE"
      }
    },
    {
      "cell_type": "code",
      "source": [
        "print (x)"
      ],
      "metadata": {
        "colab": {
          "base_uri": "https://localhost:8080/"
        },
        "id": "sK3P_KjFsIot",
        "outputId": "a6ef0051-5544-4016-b74a-1cc9f58a682e"
      },
      "execution_count": null,
      "outputs": [
        {
          "output_type": "stream",
          "name": "stdout",
          "text": [
            "1.0\n"
          ]
        }
      ]
    },
    {
      "cell_type": "markdown",
      "source": [
        "TYPE()  FUNCTION"
      ],
      "metadata": {
        "id": "mwc8p4rXsNK5"
      }
    },
    {
      "cell_type": "code",
      "source": [
        "y = \"Blue Lily\"\n",
        "\n",
        "print(type(y))\n",
        "print(type(x))"
      ],
      "metadata": {
        "colab": {
          "base_uri": "https://localhost:8080/"
        },
        "id": "rPwMXLY5sS8b",
        "outputId": "782644f1-6d82-4452-d768-5d869e71765b"
      },
      "execution_count": null,
      "outputs": [
        {
          "output_type": "stream",
          "name": "stdout",
          "text": [
            "<class 'str'>\n",
            "<class 'float'>\n"
          ]
        }
      ]
    },
    {
      "cell_type": "markdown",
      "source": [
        "DOUBLE QUOTES AND SINGLE QUOTES"
      ],
      "metadata": {
        "id": "gSLY14j4tJ8d"
      }
    },
    {
      "cell_type": "code",
      "source": [
        "h= \"Katana\"\n",
        "v= 1\n",
        "V= 2\n",
        "\n",
        "print(h)\n",
        "print(v)\n",
        "print(v+1)"
      ],
      "metadata": {
        "colab": {
          "base_uri": "https://localhost:8080/"
        },
        "id": "6ymaWDpRtNzK",
        "outputId": "04f629df-5378-4bc8-f638-5656e7bff2c7"
      },
      "execution_count": null,
      "outputs": [
        {
          "output_type": "stream",
          "name": "stdout",
          "text": [
            "Katana\n",
            "1\n",
            "2\n"
          ]
        }
      ]
    },
    {
      "cell_type": "markdown",
      "source": [
        "MULTIPLE VARIABLES"
      ],
      "metadata": {
        "id": "DcPPnM7qtgja"
      }
    },
    {
      "cell_type": "code",
      "source": [
        "x,y,z=\"ichi\", \"ni\", \"san\"\n",
        "print(x)\n",
        "print(y)\n",
        "print(z)\n",
        "print(x,y,z)"
      ],
      "metadata": {
        "colab": {
          "base_uri": "https://localhost:8080/"
        },
        "id": "pTel-s4YtiYl",
        "outputId": "82a154e4-2658-4d3a-a965-9279e04713b2"
      },
      "execution_count": null,
      "outputs": [
        {
          "output_type": "stream",
          "name": "stdout",
          "text": [
            "ichi\n",
            "ni\n",
            "san\n",
            "ichi ni san\n"
          ]
        }
      ]
    },
    {
      "cell_type": "markdown",
      "source": [
        "ONE VALUE TO MULTIPLE VARIABLES"
      ],
      "metadata": {
        "id": "jdWcWT7yt87M"
      }
    },
    {
      "cell_type": "code",
      "source": [
        "x = y = z =\"Benson\"\n",
        "print(x,y,z)"
      ],
      "metadata": {
        "colab": {
          "base_uri": "https://localhost:8080/"
        },
        "id": "gFgUT2k5t_zs",
        "outputId": "0700064b-38c5-48e6-93e3-dc86ed7174f8"
      },
      "execution_count": null,
      "outputs": [
        {
          "output_type": "stream",
          "name": "stdout",
          "text": [
            "Benson Benson Benson\n"
          ]
        }
      ]
    },
    {
      "cell_type": "markdown",
      "source": [
        "OUTPUT VARIABLES"
      ],
      "metadata": {
        "id": "zen6PMcpwXW_"
      }
    },
    {
      "cell_type": "code",
      "source": [
        "x= \"Watching\"\n",
        "\n",
        "print(\"I am \" + x)\n",
        "\n",
        "x = \"All of us are dead\"\n",
        "y = \"at 1 in the morning\"\n",
        "\n",
        "print(x+\"\"+\" \"+y)"
      ],
      "metadata": {
        "colab": {
          "base_uri": "https://localhost:8080/"
        },
        "id": "1WYbEEOdwabZ",
        "outputId": "64186cfd-a981-46a4-8f9b-91ec2b87ff07"
      },
      "execution_count": null,
      "outputs": [
        {
          "output_type": "stream",
          "name": "stdout",
          "text": [
            "I am Watching\n",
            "All of us are dead at 1 in the morning\n"
          ]
        }
      ]
    },
    {
      "cell_type": "markdown",
      "source": [
        "ARITHMETIC OPERATIONS"
      ],
      "metadata": {
        "id": "idrv4rBTwywD"
      }
    },
    {
      "cell_type": "code",
      "source": [
        "f = 4\n",
        "g = 6\n",
        "i = 7\n",
        "\n",
        "print(f+g)\n",
        "print(f-g)\n",
        "print(f*i)\n",
        "print(int(i/g))\n",
        "print(3/g)\n",
        "print(3%g)\n",
        "print(3//g)\n",
        "print(3**6)"
      ],
      "metadata": {
        "colab": {
          "base_uri": "https://localhost:8080/"
        },
        "id": "4Ewt3dlow2bn",
        "outputId": "e0c34c44-32ee-4ca0-d4ab-40fdb45ae2a6"
      },
      "execution_count": null,
      "outputs": [
        {
          "output_type": "stream",
          "name": "stdout",
          "text": [
            "10\n",
            "-2\n",
            "28\n",
            "1\n",
            "0.5\n",
            "3\n",
            "0\n",
            "729\n"
          ]
        }
      ]
    },
    {
      "cell_type": "markdown",
      "source": [
        "ASSIGNMENT OPERATORS"
      ],
      "metadata": {
        "id": "PmuPWz_8w8jN"
      }
    },
    {
      "cell_type": "code",
      "source": [
        "k = 2\n",
        "l=3\n",
        "k+=3 #same as k=k+3 \n",
        "\n",
        "print(k)\n",
        "\n",
        "print(l>>1)"
      ],
      "metadata": {
        "colab": {
          "base_uri": "https://localhost:8080/"
        },
        "id": "A-6IO_-rxBNM",
        "outputId": "70650cbb-9352-4a96-afee-b7f45924b96b"
      },
      "execution_count": null,
      "outputs": [
        {
          "output_type": "stream",
          "name": "stdout",
          "text": [
            "5\n",
            "1\n"
          ]
        }
      ]
    },
    {
      "cell_type": "markdown",
      "source": [
        "BOOLEAN OPERATORS"
      ],
      "metadata": {
        "id": "OGKgQ0GGxqrr"
      }
    },
    {
      "cell_type": "code",
      "source": [
        "k=4\n",
        "l=3\n",
        "print(k>>2)#shift right twice \n",
        "print(k<<2)#shift left twice"
      ],
      "metadata": {
        "colab": {
          "base_uri": "https://localhost:8080/"
        },
        "id": "EN949g3txz7V",
        "outputId": "b461898c-975a-43ad-ebe8-9cc1efc0527f"
      },
      "execution_count": null,
      "outputs": [
        {
          "output_type": "stream",
          "name": "stdout",
          "text": [
            "1\n",
            "16\n"
          ]
        }
      ]
    },
    {
      "cell_type": "markdown",
      "source": [
        "RELATIONAL OPERATORS"
      ],
      "metadata": {
        "id": "iCe8_AA-x1tZ"
      }
    },
    {
      "cell_type": "code",
      "source": [
        "print(v>k) #v=1, k=2\n",
        "\n",
        "print(v==k)"
      ],
      "metadata": {
        "colab": {
          "base_uri": "https://localhost:8080/"
        },
        "id": "wxgoRNw7x4Bv",
        "outputId": "7e6e5ad8-8ea7-4323-a1c2-fd5e48c744cf"
      },
      "execution_count": null,
      "outputs": [
        {
          "output_type": "stream",
          "name": "stdout",
          "text": [
            "False\n",
            "False\n"
          ]
        }
      ]
    },
    {
      "cell_type": "markdown",
      "source": [
        "LOGICAL OPERATORS"
      ],
      "metadata": {
        "id": "Qn8j7J37yMII"
      }
    },
    {
      "cell_type": "code",
      "source": [
        "print(v<k and k==k)\n",
        "print(v<k or k==v)\n",
        "print(not (v<k or k==v))"
      ],
      "metadata": {
        "colab": {
          "base_uri": "https://localhost:8080/"
        },
        "id": "kjpJbKsmyTIJ",
        "outputId": "f90cfa9e-a4c7-4abb-8319-f62d885d15ef"
      },
      "execution_count": null,
      "outputs": [
        {
          "output_type": "stream",
          "name": "stdout",
          "text": [
            "True\n",
            "True\n",
            "False\n"
          ]
        }
      ]
    },
    {
      "cell_type": "markdown",
      "source": [
        "IDENTITY OPERATORS"
      ],
      "metadata": {
        "id": "aTWpwYBGyWqp"
      }
    },
    {
      "cell_type": "code",
      "source": [
        "print(v is k)\n",
        "print(v is not k)"
      ],
      "metadata": {
        "id": "05VukWonyad5",
        "outputId": "ebacae6c-c842-4295-fd8f-bd13e23acf3f",
        "colab": {
          "base_uri": "https://localhost:8080/"
        }
      },
      "execution_count": null,
      "outputs": [
        {
          "output_type": "stream",
          "name": "stdout",
          "text": [
            "False\n",
            "True\n"
          ]
        }
      ]
    }
  ]
}