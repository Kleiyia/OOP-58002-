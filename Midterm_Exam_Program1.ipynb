{
  "nbformat": 4,
  "nbformat_minor": 0,
  "metadata": {
    "colab": {
      "name": "Midterm Exam_Program1.ipynb",
      "provenance": [],
      "authorship_tag": "ABX9TyMwSg79Yo3U0bN6aroXfAvS",
      "include_colab_link": true
    },
    "kernelspec": {
      "name": "python3",
      "display_name": "Python 3"
    },
    "language_info": {
      "name": "python"
    }
  },
  "cells": [
    {
      "cell_type": "markdown",
      "metadata": {
        "id": "view-in-github",
        "colab_type": "text"
      },
      "source": [
        "<a href=\"https://colab.research.google.com/github/Kleiyia/OOP-58002-/blob/main/Midterm_Exam_Program1.ipynb\" target=\"_parent\"><img src=\"https://colab.research.google.com/assets/colab-badge.svg\" alt=\"Open In Colab\"/></a>"
      ]
    },
    {
      "cell_type": "code",
      "source": [
        "def main():\n",
        "    class TemperatureConversion:\n",
        "\n",
        "        def __init__(self, temp=1):\n",
        "            self._temp = temp\n",
        "\n",
        "    class KelvinToCelsius(TemperatureConversion):\n",
        "\n",
        "        def conversion(self):\n",
        "            return self._temp - 273.15\n",
        "\n",
        "    class FahrenheitToCelsius(TemperatureConversion):\n",
        "\n",
        "        def conversion(self):\n",
        "            return (self._temp * 32) - 5 / 9\n",
        "\n",
        "    class CelsiusToFahrenheit(TemperatureConversion):\n",
        "\n",
        "        def conversion(self):\n",
        "            return (self._temp * 9) / 5 + 32\n",
        "\n",
        "    class CelsiusToKelvin(TemperatureConversion):\n",
        "\n",
        "        def conversion(self):\n",
        "            return self._temp + 273.15\n",
        "\n",
        "\n",
        "\n",
        "    tempInCelsius = float(input(\"Enter the temperature in Celsius: \"))\n",
        "    tempInKelvin = float(input(\"Enter the temperature in Kelvin: \"))\n",
        "    tempInFahrenheit = float(input(\"Enter the temperature in Fahrenheit: \"))\n",
        "    convert = CelsiusToKelvin(tempInCelsius)\n",
        "    print(str(convert.conversion()) + \" Celsius to Kelvin\")\n",
        "    convert = KelvinToCelsius(tempInKelvin)\n",
        "    print(str(convert2.conversion()) + \" Kelvin to Celsius\")\n",
        "    convert= FahrenheitToCelsius(tempInKelvin)\n",
        "    convert = CelsiusToFahrenheit(tempInCelsius)\n",
        "    print(str(convert.conversion()) + \" Celsius to Fahrenheit\")\n",
        "    print(str(convert3.conversion()) + \" Fahrenheit to Celsius\")\n",
        "\n",
        "\n",
        "main()"
      ],
      "metadata": {
        "colab": {
          "base_uri": "https://localhost:8080/"
        },
        "id": "K1ISNgIElAAX",
        "outputId": "dd00f68a-b25d-4a84-8f56-44f0d66ae747"
      },
      "execution_count": 4,
      "outputs": [
        {
          "output_type": "stream",
          "name": "stdout",
          "text": [
            "Enter the temperature in Celsius: 25\n",
            "Enter the temperature in Kelvin: 55\n",
            "Enter the temperature in Fahrenheit: 44\n",
            "298.15 Celsius to Kelvin\n",
            "-218.14999999999998 Kelvin to Celsius\n",
            "77.0 Celsius to Fahrenheit\n",
            "1759.4444444444443 Fahrenheit to Celsius\n"
          ]
        }
      ]
    }
  ]
}