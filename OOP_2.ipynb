{
  "nbformat": 4,
  "nbformat_minor": 0,
  "metadata": {
    "colab": {
      "name": "OOP_2.ipynb",
      "provenance": [],
      "authorship_tag": "ABX9TyNLK7JeMk/AMVnobGhYJmdR",
      "include_colab_link": true
    },
    "kernelspec": {
      "name": "python3",
      "display_name": "Python 3"
    },
    "language_info": {
      "name": "python"
    }
  },
  "cells": [
    {
      "cell_type": "markdown",
      "metadata": {
        "id": "view-in-github",
        "colab_type": "text"
      },
      "source": [
        "<a href=\"https://colab.research.google.com/github/Kleiyia/OOP-58002-/blob/main/OOP_2.ipynb\" target=\"_parent\"><img src=\"https://colab.research.google.com/assets/colab-badge.svg\" alt=\"Open In Colab\"/></a>"
      ]
    },
    {
      "cell_type": "code",
      "execution_count": 24,
      "metadata": {
        "id": "oHl0zPlwLz5C"
      },
      "outputs": [],
      "source": [
        "import random\n",
        "\n",
        "class Person:\n",
        "  def __init__ (self, student, pre, mid, fin):\n",
        "    self.student = student\n",
        "    self.pre = pre *0.30\n",
        "    self.mid = mid *0.30\n",
        "    self.fin = fin *0.40\n",
        "    \n",
        "  def Grade(self):\n",
        "      print (self.student, \"has an average grade of\", self.pre, \"in prelims\")\n",
        "      print (self.student, \"has an average grade of\", self.mid, \"in midterms\")\n",
        "      print (self.student, \"has an average grade of\", self.fin, \"in finals\")\n",
        "\n",
        "      std1 = Person (\"Erica\", random.randint(75,99), random.randint(75,99), random.randint(75,99))\n",
        "      std2 = Person (\"Jai\", random.randint(75,99), random.randint(75,99), random.randint(75,99))\n",
        "      std3 = Person (\"KC\", random.randint(75,99), random.randint(75,99), random.randint(75,99))\n",
        "\n",
        "      std1.Grade()\n",
        "      std2.Grade()\n",
        "      std3.Grade()\n"
      ]
    }
  ]
}