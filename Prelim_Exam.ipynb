{
  "nbformat": 4,
  "nbformat_minor": 0,
  "metadata": {
    "colab": {
      "name": "Prelim Exam.ipynb",
      "provenance": [],
      "authorship_tag": "ABX9TyNQTk8f8iZp713+wEeTwMM4",
      "include_colab_link": true
    },
    "kernelspec": {
      "name": "python3",
      "display_name": "Python 3"
    },
    "language_info": {
      "name": "python"
    }
  },
  "cells": [
    {
      "cell_type": "markdown",
      "metadata": {
        "id": "view-in-github",
        "colab_type": "text"
      },
      "source": [
        "<a href=\"https://colab.research.google.com/github/Kleiyia/OOP-58002-/blob/main/Prelim_Exam.ipynb\" target=\"_parent\"><img src=\"https://colab.research.google.com/assets/colab-badge.svg\" alt=\"Open In Colab\"/></a>"
      ]
    },
    {
      "cell_type": "code",
      "execution_count": 48,
      "metadata": {
        "colab": {
          "base_uri": "https://localhost:8080/"
        },
        "id": "OmjV2ZNfGBrm",
        "outputId": "dba525cf-ecdd-4c38-ccc8-6a5462cec90f"
      },
      "outputs": [
        {
          "output_type": "stream",
          "name": "stdout",
          "text": [
            "The Student name is Kathleen Zamora\n",
            "The Student_num is 202113527\n",
            "The Student is 19 years old\n",
            "The Student is studying BS Computer Engineering at Adamson University\n"
          ]
        }
      ],
      "source": [
        "class Student (): \n",
        "  def __init__ (self, Student, Student_Num, Age, School,Course):\n",
        "    self.Student = Student\n",
        "    self.Student_Num = Student_Num\n",
        "    self.Age = Age\n",
        "    self.School = School\n",
        "    self.Course = Course\n",
        "\n",
        "  def Myself (self):\n",
        "    print (\"The Student name is\", self.Student)\n",
        "    print (\"The Student_num is\", self.Student_Num)\n",
        "    print (\"The Student is\", self.Age, \"years old\")\n",
        "    print (\"The Student is studying\", self.Course, \"at\", self.School)\n",
        "\n",
        "NPC = Student (\"Kathleen Zamora\", 202113527, 19,\"Adamson University\", \"BS Computer Engineering\")\n",
        "NPC.Myself()"
      ]
    }
  ]
}